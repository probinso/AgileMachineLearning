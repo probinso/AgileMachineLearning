{
 "cells": [
  {
   "cell_type": "code",
   "execution_count": 3,
   "metadata": {
    "collapsed": false
   },
   "outputs": [],
   "source": [
    "from __future__ import division, print_function, absolute_import, unicode_literals\n",
    "from builtins import str\n",
    "\n",
    "import os\n",
    "\n",
    "import pandas as pd\n",
    "from matplotlib import pyplot as plt\n",
    "\n",
    "DATA_PATH = os.path.abspath(os.path.join('..', '..', '..', 'Data'))\n",
    "\n",
    "import string"
   ]
  },
  {
   "cell_type": "code",
   "execution_count": 4,
   "metadata": {
    "collapsed": false
   },
   "outputs": [
    {
     "data": {
      "text/html": [
       "<style>.container { width:100% !important; }</style>"
      ],
      "text/plain": [
       "<IPython.core.display.HTML object>"
      ]
     },
     "metadata": {},
     "output_type": "display_data"
    }
   ],
   "source": [
    "import matplotlib\n",
    "from IPython.display import display, HTML \n",
    "%matplotlib inline\n",
    "np = pd.np\n",
    "display(HTML(\"<style>.container { width:100% !important; }</style>\"))\n",
    "pd.set_option('display.max_rows', 6)\n",
    "pd.set_option('display.max_columns', 500)\n",
    "pd.set_option('display.width', 500)"
   ]
  },
  {
   "cell_type": "code",
   "execution_count": 5,
   "metadata": {
    "collapsed": false
   },
   "outputs": [],
   "source": [
    "df = pd.read_csv(os.path.join(DATA_PATH, 'deduped_tweets.csv.gz'), low_memory=False)"
   ]
  },
  {
   "cell_type": "code",
   "execution_count": 6,
   "metadata": {
    "collapsed": false
   },
   "outputs": [
    {
     "data": {
      "text/plain": [
       "0"
      ]
     },
     "execution_count": 6,
     "metadata": {},
     "output_type": "execute_result"
    }
   ],
   "source": [
    "df = df.drop_duplicates('id', keep='last')[['id', 'id_str', 'text']]\n",
    "df.id == df.id_str\n",
    "(df.id != df.id_str).sum()"
   ]
  },
  {
   "cell_type": "code",
   "execution_count": 7,
   "metadata": {
    "collapsed": true
   },
   "outputs": [],
   "source": [
    "df = df[['id', 'text']]"
   ]
  },
  {
   "cell_type": "code",
   "execution_count": 8,
   "metadata": {
    "collapsed": false
   },
   "outputs": [
    {
     "data": {
      "text/plain": [
       "0         #python never stop learning what you enjoy doi...\n",
       "1         Watching Boa vs. Python — https://t.co/Pivpk02s2A\n",
       "2         Monty Python - The silly walk https://t.co/C0J...\n",
       "                                ...                        \n",
       "183067    RT @RealPython: List of Python API Wrappers &g...\n",
       "183068    Watching Boa vs. Python — https://t.co/5THbrirfQO\n",
       "183069    Чертова дюжина вакансий в IT и Digital /  / 1....\n",
       "Name: text, dtype: object"
      ]
     },
     "execution_count": 8,
     "metadata": {},
     "output_type": "execute_result"
    }
   ],
   "source": [
    "df.text"
   ]
  },
  {
   "cell_type": "code",
   "execution_count": 9,
   "metadata": {
    "collapsed": false
   },
   "outputs": [
    {
     "data": {
      "text/html": [
       "<div>\n",
       "<table border=\"1\" class=\"dataframe\">\n",
       "  <thead>\n",
       "    <tr style=\"text-align: right;\">\n",
       "      <th></th>\n",
       "      <th>id</th>\n",
       "      <th>text</th>\n",
       "      <th>tokens</th>\n",
       "    </tr>\n",
       "  </thead>\n",
       "  <tbody>\n",
       "    <tr>\n",
       "      <th>0</th>\n",
       "      <td>724276510626979840</td>\n",
       "      <td>#python never stop learning what you enjoy doi...</td>\n",
       "      <td>[#python, never, stop, learning, what, you, en...</td>\n",
       "    </tr>\n",
       "    <tr>\n",
       "      <th>1</th>\n",
       "      <td>724276498249572352</td>\n",
       "      <td>Watching Boa vs. Python — https://t.co/Pivpk02s2A</td>\n",
       "      <td>[Watching, Boa, vs., Python, —, https://t.co/P...</td>\n",
       "    </tr>\n",
       "    <tr>\n",
       "      <th>2</th>\n",
       "      <td>724276388325412866</td>\n",
       "      <td>Monty Python - The silly walk https://t.co/C0J...</td>\n",
       "      <td>[Monty, Python, -, The, silly, walk, https://t...</td>\n",
       "    </tr>\n",
       "    <tr>\n",
       "      <th>...</th>\n",
       "      <td>...</td>\n",
       "      <td>...</td>\n",
       "      <td>...</td>\n",
       "    </tr>\n",
       "    <tr>\n",
       "      <th>183067</th>\n",
       "      <td>724275609858392066</td>\n",
       "      <td>RT @RealPython: List of Python API Wrappers &amp;g...</td>\n",
       "      <td>[RT, @RealPython:, List, of, Python, API, Wrap...</td>\n",
       "    </tr>\n",
       "    <tr>\n",
       "      <th>183068</th>\n",
       "      <td>724275578879111169</td>\n",
       "      <td>Watching Boa vs. Python — https://t.co/5THbrirfQO</td>\n",
       "      <td>[Watching, Boa, vs., Python, —, https://t.co/5...</td>\n",
       "    </tr>\n",
       "    <tr>\n",
       "      <th>183069</th>\n",
       "      <td>724275568871673857</td>\n",
       "      <td>Чертова дюжина вакансий в IT и Digital /  / 1....</td>\n",
       "      <td>[Чертова, дюжина, вакансий, в, IT, и, Digital,...</td>\n",
       "    </tr>\n",
       "  </tbody>\n",
       "</table>\n",
       "<p>183070 rows × 3 columns</p>\n",
       "</div>"
      ],
      "text/plain": [
       "                        id                                               text                                             tokens\n",
       "0       724276510626979840  #python never stop learning what you enjoy doi...  [#python, never, stop, learning, what, you, en...\n",
       "1       724276498249572352  Watching Boa vs. Python — https://t.co/Pivpk02s2A  [Watching, Boa, vs., Python, —, https://t.co/P...\n",
       "2       724276388325412866  Monty Python - The silly walk https://t.co/C0J...  [Monty, Python, -, The, silly, walk, https://t...\n",
       "...                    ...                                                ...                                                ...\n",
       "183067  724275609858392066  RT @RealPython: List of Python API Wrappers &g...  [RT, @RealPython:, List, of, Python, API, Wrap...\n",
       "183068  724275578879111169  Watching Boa vs. Python — https://t.co/5THbrirfQO  [Watching, Boa, vs., Python, —, https://t.co/5...\n",
       "183069  724275568871673857  Чертова дюжина вакансий в IT и Digital /  / 1....  [Чертова, дюжина, вакансий, в, IT, и, Digital,...\n",
       "\n",
       "[183070 rows x 3 columns]"
      ]
     },
     "execution_count": 9,
     "metadata": {},
     "output_type": "execute_result"
    }
   ],
   "source": [
    "df['tokens'] = df.text.str.split()\n",
    "df"
   ]
  },
  {
   "cell_type": "code",
   "execution_count": 15,
   "metadata": {
    "collapsed": false
   },
   "outputs": [],
   "source": [
    "import collections\n",
    "import re\n",
    "tld_iana = pd.read_csv(os.path.join(DATA_PATH, 'tlds-from-iana.csv'))\n",
    "tld_iana = collections.OrderedDict(sorted(zip((tld.strip().lstrip('.') for tld in tld_iana.domain),\n",
    "                                              [(sponsor.strip(), -1) for sponsor in tld_iana.sponsor]),\n",
    "                                          key=lambda x: len(x[0]),\n",
    "                                          reverse=True))\n",
    "\n",
    "# top 20 in Google searches per day\n",
    "# sorted by longest first so .com matches before .om (Oman)\n",
    "tld_popular = collections.OrderedDict(sorted([\n",
    "    ('com', ('Commercial', 4860000000)),\n",
    "    ('org', ('Noncommercial', 1950000000)),\n",
    "    ('edu', ('US accredited postsecondary institutions', 1550000000)),\n",
    "    ('gov', ('United States Government', 1060000000)),\n",
    "    ('uk',  ('United Kingdom', 473000000)),\n",
    "    ('net', ('Network services', 206000000)),\n",
    "    ('ca', ('Canada', 165000000)),\n",
    "    ('de', ('Germany', 145000000)),\n",
    "    ('jp', ('Japan', 139000000)),\n",
    "    ('fr', ('France', 96700000)),\n",
    "    ('au', ('Australia', 91000000)),\n",
    "    ('us', ('United States', 68300000)),\n",
    "    ('ru', ('Russian Federation', 67900000)),\n",
    "    ('ch', ('Switzerland', 62100000)),\n",
    "    ('it', ('Italy', 55200000)),\n",
    "    ('nl', ('Netherlands', 45700000)),\n",
    "    ('se', ('Sweden', 39000000)),\n",
    "    ('no', ('Norway', 32300000)),\n",
    "    ('es', ('Spain', 31000000)),\n",
    "    ('mil', ('US Military', 28400000)),\n",
    "    ], key=lambda x: len(x[0]), reverse=True))\n",
    "uri_schemes_iana = sorted(pd.read_csv(os.path.join(DATA_PATH, 'uri-schemes.xhtml.csv'),\n",
    "                                      index_col=0).index.values,\n",
    "                          key=lambda x: len(str(x)), reverse=True)\n",
    "uri_schemes_popular = ['chrome-extension', 'example', 'content', 'bitcoin',\n",
    "                       'telnet', 'mailto',\n",
    "                       'https', 'gtalk',\n",
    "                       'http', 'smtp', 'feed',\n",
    "                       'udp', 'ftp', 'ssh', 'git', 'apt', 'svn', 'cvs']\n",
    "# email = re.compile(r'^([\\w-]+(?:\\.[\\w-]+)*)@((?:[\\w-]+\\.)*\\w[\\w-]{0,66})\\.([a-z]{2,6}(?:\\.[a-z]{2})?)')\n",
    "fqdn = r'(\\b[a-zA-Z0-9-.]+([.]' + r'|'.join(tld_iana) + r')\\b)'\n",
    "fqdn_popular = r'(\\b[a-zA-Z0-9-.]+\\b([.]' + r'|'.join(tld_popular) + r'\\b)\\b)'\n",
    "username = r'(\\b[a-zA-Z0-9-.!#$%&*+-/=?^_`{|}~]+\\b)'\n",
    "\n",
    "email = re.compile(r'(\\b' + username + r'\\b@\\b' + fqdn + r'\\b)')\n",
    "email_popular = re.compile(r'(\\b' + username + r'\\b@\\b' + fqdn_popular + r'\\b)')\n",
    "\n",
    "# TODO: unmatched surrounding symbols are accepted/consumed, likewise for multiple dots/ats\n",
    "at = r'(([-@=\"_(\\[{\\|\\s]+(at|At|AT)[-@=\"_)\\]\\}\\|\\s]+)|[@])'\n",
    "dot = r'(([-.=\"_(\\[{\\|\\s]+(dot|dt|Dot|DOT)[-.=\"_)\\]\\}\\|\\s]+)|[.])'\n",
    "fqdn_obfuscated = r'(\\b(([a-zA-Z0-9-]+' + dot + r'){1,7})(' + r'|'.join(tld_iana) + r')\\b)'\n",
    "fqdn_popular_obfuscated = r'(\\b(([a-zA-Z0-9-]+' + dot + r'){1,7})(' + r'|'.join(tld_popular) + r')\\b)'\n",
    "username_obfuscated = r'(([a-zA-Z0-9!#$%&*+/?^`~]+' + dot + r'?){1,7})'\n",
    "email_obfuscated = re.compile(r'(\\b' + username_obfuscated + at + fqdn_obfuscated + r'\\b)')\n",
    "email_popular_obfuscated = re.compile(r'(\\b' + username_obfuscated + at + fqdn_popular_obfuscated + r'\\b)')\n",
    "\n",
    "url_path = r'(\\b[^\\s]+)'\n",
    "url_scheme = r'(\\b(' + '|'.join(uri_schemes_iana) + r')[:][/]{2})'\n",
    "url_scheme_popular = r'(\\b(' + '|'.join(uri_schemes_popular) + r')[:][/]{2})'\n",
    "url = r'(\\b' + url_scheme + fqdn + url_path + r'?\\b)'"
   ]
  },
  {
   "cell_type": "code",
   "execution_count": 16,
   "metadata": {
    "collapsed": false
   },
   "outputs": [
    {
     "data": {
      "text/html": [
       "<div>\n",
       "<table border=\"1\" class=\"dataframe\">\n",
       "  <thead>\n",
       "    <tr style=\"text-align: right;\">\n",
       "      <th></th>\n",
       "      <th>id</th>\n",
       "      <th>text</th>\n",
       "      <th>tokens</th>\n",
       "    </tr>\n",
       "  </thead>\n",
       "  <tbody>\n",
       "    <tr>\n",
       "      <th>0</th>\n",
       "      <td>724276510626979840</td>\n",
       "      <td>#python never stop learning what you enjoy doi...</td>\n",
       "      <td>[#python, never, stop, learning, what, you, en...</td>\n",
       "    </tr>\n",
       "    <tr>\n",
       "      <th>1</th>\n",
       "      <td>724276498249572352</td>\n",
       "      <td>Watching Boa vs. Python — https://t.co/Pivpk02s2A</td>\n",
       "      <td>[Watching, Boa, vs., Python, —]</td>\n",
       "    </tr>\n",
       "    <tr>\n",
       "      <th>2</th>\n",
       "      <td>724276388325412866</td>\n",
       "      <td>Monty Python - The silly walk https://t.co/C0J...</td>\n",
       "      <td>[Monty, Python, -, The, silly, walk, via, @You...</td>\n",
       "    </tr>\n",
       "    <tr>\n",
       "      <th>...</th>\n",
       "      <td>...</td>\n",
       "      <td>...</td>\n",
       "      <td>...</td>\n",
       "    </tr>\n",
       "    <tr>\n",
       "      <th>183067</th>\n",
       "      <td>724275609858392066</td>\n",
       "      <td>RT @RealPython: List of Python API Wrappers &amp;g...</td>\n",
       "      <td>[RT, @RealPython:, List, of, Python, API, Wrap...</td>\n",
       "    </tr>\n",
       "    <tr>\n",
       "      <th>183068</th>\n",
       "      <td>724275578879111169</td>\n",
       "      <td>Watching Boa vs. Python — https://t.co/5THbrirfQO</td>\n",
       "      <td>[Watching, Boa, vs., Python, —]</td>\n",
       "    </tr>\n",
       "    <tr>\n",
       "      <th>183069</th>\n",
       "      <td>724275568871673857</td>\n",
       "      <td>Чертова дюжина вакансий в IT и Digital /  / 1....</td>\n",
       "      <td>[Чертова, дюжина, вакансий, в, IT, и, Digital,...</td>\n",
       "    </tr>\n",
       "  </tbody>\n",
       "</table>\n",
       "<p>183070 rows × 3 columns</p>\n",
       "</div>"
      ],
      "text/plain": [
       "                        id                                               text                                             tokens\n",
       "0       724276510626979840  #python never stop learning what you enjoy doi...  [#python, never, stop, learning, what, you, en...\n",
       "1       724276498249572352  Watching Boa vs. Python — https://t.co/Pivpk02s2A                    [Watching, Boa, vs., Python, —]\n",
       "2       724276388325412866  Monty Python - The silly walk https://t.co/C0J...  [Monty, Python, -, The, silly, walk, via, @You...\n",
       "...                    ...                                                ...                                                ...\n",
       "183067  724275609858392066  RT @RealPython: List of Python API Wrappers &g...  [RT, @RealPython:, List, of, Python, API, Wrap...\n",
       "183068  724275578879111169  Watching Boa vs. Python — https://t.co/5THbrirfQO                    [Watching, Boa, vs., Python, —]\n",
       "183069  724275568871673857  Чертова дюжина вакансий в IT и Digital /  / 1....  [Чертова, дюжина, вакансий, в, IT, и, Digital,...\n",
       "\n",
       "[183070 rows x 3 columns]"
      ]
     },
     "execution_count": 16,
     "metadata": {},
     "output_type": "execute_result"
    }
   ],
   "source": [
    "df['tokens'] = df.text.str.replace(url, '').str.split()\n",
    "df"
   ]
  },
  {
   "cell_type": "code",
   "execution_count": 17,
   "metadata": {
    "collapsed": false
   },
   "outputs": [
    {
     "data": {
      "text/plain": [
       "0          python never stop learning what you enjoy doing \n",
       "1                                   Watching Boa vs Python \n",
       "2                   Monty Python The silly walk via YouTube\n",
       "                                ...                        \n",
       "183067    RT RealPython List of Python API Wrappers gt g...\n",
       "183068                              Watching Boa vs Python \n",
       "183069    Чертова дюжина вакансий в IT и Digital 1 Go ра...\n",
       "Name: txt, dtype: object"
      ]
     },
     "execution_count": 17,
     "metadata": {},
     "output_type": "execute_result"
    }
   ],
   "source": [
    "df['txt'] = df.text.str.replace(url, ' ').str.replace(r'\\W+', ' ').str.replace(r'\\s+', ' ')\n",
    "df.txt"
   ]
  },
  {
   "cell_type": "code",
   "execution_count": 18,
   "metadata": {
    "collapsed": false
   },
   "outputs": [
    {
     "data": {
      "text/html": [
       "<div>\n",
       "<table border=\"1\" class=\"dataframe\">\n",
       "  <thead>\n",
       "    <tr style=\"text-align: right;\">\n",
       "      <th></th>\n",
       "      <th>id</th>\n",
       "      <th>text</th>\n",
       "      <th>tokens</th>\n",
       "      <th>txt</th>\n",
       "    </tr>\n",
       "  </thead>\n",
       "  <tbody>\n",
       "    <tr>\n",
       "      <th>0</th>\n",
       "      <td>724276510626979840</td>\n",
       "      <td>#python never stop learning what you enjoy doi...</td>\n",
       "      <td>[python, never, stop, learning, what, you, enj...</td>\n",
       "      <td>python never stop learning what you enjoy doing</td>\n",
       "    </tr>\n",
       "    <tr>\n",
       "      <th>1</th>\n",
       "      <td>724276498249572352</td>\n",
       "      <td>Watching Boa vs. Python — https://t.co/Pivpk02s2A</td>\n",
       "      <td>[Watching, Boa, vs, Python]</td>\n",
       "      <td>Watching Boa vs Python</td>\n",
       "    </tr>\n",
       "    <tr>\n",
       "      <th>2</th>\n",
       "      <td>724276388325412866</td>\n",
       "      <td>Monty Python - The silly walk https://t.co/C0J...</td>\n",
       "      <td>[Monty, Python, The, silly, walk, via, YouTube]</td>\n",
       "      <td>Monty Python The silly walk via YouTube</td>\n",
       "    </tr>\n",
       "    <tr>\n",
       "      <th>...</th>\n",
       "      <td>...</td>\n",
       "      <td>...</td>\n",
       "      <td>...</td>\n",
       "      <td>...</td>\n",
       "    </tr>\n",
       "    <tr>\n",
       "      <th>183067</th>\n",
       "      <td>724275609858392066</td>\n",
       "      <td>RT @RealPython: List of Python API Wrappers &amp;g...</td>\n",
       "      <td>[RT, RealPython, List, of, Python, API, Wrappe...</td>\n",
       "      <td>RT RealPython List of Python API Wrappers gt g...</td>\n",
       "    </tr>\n",
       "    <tr>\n",
       "      <th>183068</th>\n",
       "      <td>724275578879111169</td>\n",
       "      <td>Watching Boa vs. Python — https://t.co/5THbrirfQO</td>\n",
       "      <td>[Watching, Boa, vs, Python]</td>\n",
       "      <td>Watching Boa vs Python</td>\n",
       "    </tr>\n",
       "    <tr>\n",
       "      <th>183069</th>\n",
       "      <td>724275568871673857</td>\n",
       "      <td>Чертова дюжина вакансий в IT и Digital /  / 1....</td>\n",
       "      <td>[Чертова, дюжина, вакансий, в, IT, и, Digital,...</td>\n",
       "      <td>Чертова дюжина вакансий в IT и Digital Go разр...</td>\n",
       "    </tr>\n",
       "  </tbody>\n",
       "</table>\n",
       "<p>183070 rows × 4 columns</p>\n",
       "</div>"
      ],
      "text/plain": [
       "                        id                                               text                                             tokens                                                txt\n",
       "0       724276510626979840  #python never stop learning what you enjoy doi...  [python, never, stop, learning, what, you, enj...   python never stop learning what you enjoy doing \n",
       "1       724276498249572352  Watching Boa vs. Python — https://t.co/Pivpk02s2A                        [Watching, Boa, vs, Python]                            Watching Boa vs Python \n",
       "2       724276388325412866  Monty Python - The silly walk https://t.co/C0J...    [Monty, Python, The, silly, walk, via, YouTube]            Monty Python The silly walk via YouTube\n",
       "...                    ...                                                ...                                                ...                                                ...\n",
       "183067  724275609858392066  RT @RealPython: List of Python API Wrappers &g...  [RT, RealPython, List, of, Python, API, Wrappe...  RT RealPython List of Python API Wrappers gt g...\n",
       "183068  724275578879111169  Watching Boa vs. Python — https://t.co/5THbrirfQO                        [Watching, Boa, vs, Python]                            Watching Boa vs Python \n",
       "183069  724275568871673857  Чертова дюжина вакансий в IT и Digital /  / 1....  [Чертова, дюжина, вакансий, в, IT, и, Digital,...  Чертова дюжина вакансий в IT и Digital Go разр...\n",
       "\n",
       "[183070 rows x 4 columns]"
      ]
     },
     "execution_count": 18,
     "metadata": {},
     "output_type": "execute_result"
    }
   ],
   "source": [
    "df['txt'] = df.txt.str.replace(r'\\d+', ' ').str.replace(r'\\s+', ' ')\n",
    "df['tokens'] = df.txt.str.split()\n",
    "df"
   ]
  },
  {
   "cell_type": "markdown",
   "metadata": {},
   "source": [
    "Notice that we trounced the hashtag #Python  \n",
    "That's not good.  \n",
    "Can you fix it?  \n",
    "Anything else we might be messing up?  \n",
    "*what other punctuation marks have special meaning in Tweets*  "
   ]
  },
  {
   "cell_type": "code",
   "execution_count": 19,
   "metadata": {
    "collapsed": true
   },
   "outputs": [],
   "source": [
    "# improve on the \"stopword\" filters here\n",
    "#\n",
    "# :-) (ask me about a smilie lexicon)\n",
    "# not-so-simple words? (ask me about a regex for compound words)\n",
    "# python variables names with underscores? (regex)"
   ]
  },
  {
   "cell_type": "code",
   "execution_count": 26,
   "metadata": {
    "collapsed": false
   },
   "outputs": [],
   "source": [
    "f = os.path.join(DATA_PATH, 'text.csv.gz')\n",
    "df.to_csv(f, encoding='utf8', compression='gzip', quoting=pd.io.common.csv.QUOTE_NONNUMERIC)"
   ]
  },
  {
   "cell_type": "code",
   "execution_count": 27,
   "metadata": {
    "collapsed": false
   },
   "outputs": [],
   "source": [
    "import gzip\n",
    "with gzip.open(os.path.join(DATA_PATH, 'text.csv.gz'), 'rb') as f:\n",
    "    df = pd.read_csv(f)"
   ]
  },
  {
   "cell_type": "markdown",
   "metadata": {},
   "source": [
    "Make sure you can read it back in!"
   ]
  },
  {
   "cell_type": "code",
   "execution_count": 28,
   "metadata": {
    "collapsed": false
   },
   "outputs": [
    {
     "data": {
      "text/html": [
       "<div>\n",
       "<table border=\"1\" class=\"dataframe\">\n",
       "  <thead>\n",
       "    <tr style=\"text-align: right;\">\n",
       "      <th></th>\n",
       "      <th>id</th>\n",
       "      <th>text</th>\n",
       "      <th>tokens</th>\n",
       "      <th>txt</th>\n",
       "    </tr>\n",
       "  </thead>\n",
       "  <tbody>\n",
       "    <tr>\n",
       "      <th>0</th>\n",
       "      <td>724276510626979840</td>\n",
       "      <td>#python never stop learning what you enjoy doi...</td>\n",
       "      <td>['python', 'never', 'stop', 'learning', 'what'...</td>\n",
       "      <td>python never stop learning what you enjoy doing</td>\n",
       "    </tr>\n",
       "    <tr>\n",
       "      <th>1</th>\n",
       "      <td>724276498249572352</td>\n",
       "      <td>Watching Boa vs. Python — https://t.co/Pivpk02s2A</td>\n",
       "      <td>['Watching', 'Boa', 'vs', 'Python']</td>\n",
       "      <td>Watching Boa vs Python</td>\n",
       "    </tr>\n",
       "    <tr>\n",
       "      <th>2</th>\n",
       "      <td>724276388325412866</td>\n",
       "      <td>Monty Python - The silly walk https://t.co/C0J...</td>\n",
       "      <td>['Monty', 'Python', 'The', 'silly', 'walk', 'v...</td>\n",
       "      <td>Monty Python The silly walk via YouTube</td>\n",
       "    </tr>\n",
       "    <tr>\n",
       "      <th>...</th>\n",
       "      <td>...</td>\n",
       "      <td>...</td>\n",
       "      <td>...</td>\n",
       "      <td>...</td>\n",
       "    </tr>\n",
       "    <tr>\n",
       "      <th>183067</th>\n",
       "      <td>724275609858392066</td>\n",
       "      <td>RT @RealPython: List of Python API Wrappers &amp;g...</td>\n",
       "      <td>['RT', 'RealPython', 'List', 'of', 'Python', '...</td>\n",
       "      <td>RT RealPython List of Python API Wrappers gt g...</td>\n",
       "    </tr>\n",
       "    <tr>\n",
       "      <th>183068</th>\n",
       "      <td>724275578879111169</td>\n",
       "      <td>Watching Boa vs. Python — https://t.co/5THbrirfQO</td>\n",
       "      <td>['Watching', 'Boa', 'vs', 'Python']</td>\n",
       "      <td>Watching Boa vs Python</td>\n",
       "    </tr>\n",
       "    <tr>\n",
       "      <th>183069</th>\n",
       "      <td>724275568871673857</td>\n",
       "      <td>Чертова дюжина вакансий в IT и Digital /  / 1....</td>\n",
       "      <td>['Чертова', 'дюжина', 'вакансий', 'в', 'IT', '...</td>\n",
       "      <td>Чертова дюжина вакансий в IT и Digital Go разр...</td>\n",
       "    </tr>\n",
       "  </tbody>\n",
       "</table>\n",
       "<p>183070 rows × 4 columns</p>\n",
       "</div>"
      ],
      "text/plain": [
       "                        id                                               text                                             tokens                                                txt\n",
       "0       724276510626979840  #python never stop learning what you enjoy doi...  ['python', 'never', 'stop', 'learning', 'what'...   python never stop learning what you enjoy doing \n",
       "1       724276498249572352  Watching Boa vs. Python — https://t.co/Pivpk02s2A                ['Watching', 'Boa', 'vs', 'Python']                            Watching Boa vs Python \n",
       "2       724276388325412866  Monty Python - The silly walk https://t.co/C0J...  ['Monty', 'Python', 'The', 'silly', 'walk', 'v...            Monty Python The silly walk via YouTube\n",
       "...                    ...                                                ...                                                ...                                                ...\n",
       "183067  724275609858392066  RT @RealPython: List of Python API Wrappers &g...  ['RT', 'RealPython', 'List', 'of', 'Python', '...  RT RealPython List of Python API Wrappers gt g...\n",
       "183068  724275578879111169  Watching Boa vs. Python — https://t.co/5THbrirfQO                ['Watching', 'Boa', 'vs', 'Python']                            Watching Boa vs Python \n",
       "183069  724275568871673857  Чертова дюжина вакансий в IT и Digital /  / 1....  ['Чертова', 'дюжина', 'вакансий', 'в', 'IT', '...  Чертова дюжина вакансий в IT и Digital Go разр...\n",
       "\n",
       "[183070 rows x 4 columns]"
      ]
     },
     "execution_count": 28,
     "metadata": {},
     "output_type": "execute_result"
    }
   ],
   "source": [
    "df = pd.DataFrame.from_csv(os.path.join(DATA_PATH, 'text.csv.gz'))\n",
    "df"
   ]
  },
  {
   "cell_type": "code",
   "execution_count": null,
   "metadata": {
    "collapsed": true
   },
   "outputs": [],
   "source": []
  }
 ],
 "metadata": {
  "kernelspec": {
   "display_name": "Python 3",
   "language": "python",
   "name": "python3"
  },
  "language_info": {
   "codemirror_mode": {
    "name": "ipython",
    "version": 3
   },
   "file_extension": ".py",
   "mimetype": "text/x-python",
   "name": "python",
   "nbconvert_exporter": "python",
   "pygments_lexer": "ipython3",
   "version": "3.5.1+"
  }
 },
 "nbformat": 4,
 "nbformat_minor": 0
}
