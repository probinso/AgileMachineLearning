{
 "cells": [
  {
   "cell_type": "code",
   "execution_count": 1,
   "metadata": {
    "collapsed": false
   },
   "outputs": [],
   "source": [
    "from __future__ import division, print_function, absolute_import\n",
    "from past.builtins import basestring\n",
    "\n",
    "import os\n",
    "import gzip\n",
    "\n",
    "import pandas as pd\n",
    "\n",
    "from twip.constant import DATA_PATH\n",
    "\n"
   ]
  },
  {
   "cell_type": "code",
   "execution_count": null,
   "metadata": {
    "collapsed": false
   },
   "outputs": [],
   "source": [
    "import matplotlib\n",
    "from IPython.display import display, HTML \n",
    "%matplotlib inline\n",
    "np = pd.np\n",
    "display(HTML(\"<style>.container { width:100% !important; }</style>\"))\n",
    "pd.set_option('display.max_rows', 6)\n",
    "pd.set_option('display.max_columns', 500)\n",
    "pd.set_option('display.width', 800)\n",
    "pd.set_option('precision', 2)\n",
    "%precision 4\n",
    "%pprint"
   ]
  },
  {
   "cell_type": "code",
   "execution_count": 3,
   "metadata": {
    "collapsed": false
   },
   "outputs": [],
   "source": [
    "from gensim.models import Word2Vec"
   ]
  },
  {
   "cell_type": "markdown",
   "metadata": {},
   "source": [
    "For now let's use the Google News model (300 topics)"
   ]
  },
  {
   "cell_type": "code",
   "execution_count": 4,
   "metadata": {
    "collapsed": false
   },
   "outputs": [],
   "source": [
    "wv = Word2Vec.load_word2vec_format(os.path.join(DATA_PATH, 'GoogleNews-vectors-negative300.bin.gz'), binary=True)\n"
   ]
  },
  {
   "cell_type": "code",
   "execution_count": 7,
   "metadata": {
    "collapsed": false
   },
   "outputs": [
    {
     "data": {
      "text/plain": [
       "[(u'snakes', 0.6297409534454346), (u'pythons', 0.6232618093490601), (u'lizard', 0.6179445385932922), (u'reptile', 0.6178215146064758), (u'crocodile', 0.6175473928451538), (u'poisonous_snake', 0.6041049957275391), (u'boa_constrictor', 0.604093611240387), (u'alligator', 0.603899359703064), (u'Burmese_python', 0.5941974520683289), (u'cobra', 0.5773065090179443)]"
      ]
     },
     "execution_count": 7,
     "metadata": {},
     "output_type": "execute_result"
    }
   ],
   "source": [
    "wv.most_similar(positive=['python', 'snake',], negative=['programming'])"
   ]
  },
  {
   "cell_type": "code",
   "execution_count": 9,
   "metadata": {
    "collapsed": false
   },
   "outputs": [
    {
     "data": {
      "text/plain": [
       "[(u'EclipseCon', 0.6095224618911743), (u'SpringOne_2GX', 0.5996967554092407), (u'GridWorld', 0.5988301634788513), (u'WordCamp', 0.5986013412475586), (u'ZendCon', 0.5928680896759033), (u'linux.conf.au', 0.5917848348617554), (u'VSLive', 0.5901633501052856), (u'OSCON', 0.5854244232177734), (u'Parallels_Summit', 0.5811077356338501), (u'BEA_eWorld', 0.5797399282455444)]"
      ]
     },
     "execution_count": 9,
     "metadata": {},
     "output_type": "execute_result"
    }
   ],
   "source": [
    "wv.most_similar(positive=['PyCon'])"
   ]
  },
  {
   "cell_type": "code",
   "execution_count": 15,
   "metadata": {
    "collapsed": false
   },
   "outputs": [
    {
     "data": {
      "text/plain": [
       "[(u'Grants_Pass', 0.5147859454154968), (u'Willamette', 0.5049761533737183), (u'Pacific_Northwest', 0.4871968626976013), (u'Vancouver_Wash.', 0.48666539788246155), (u'Corvallis', 0.4861029386520386), (u'Seattle', 0.48276418447494507), (u'Eugene_Ore.', 0.47883060574531555), (u'Orgeon', 0.47867003083229065), (u'Boise', 0.4764174818992615), (u'Portland_Ore.', 0.47364598512649536)]"
      ]
     },
     "execution_count": 15,
     "metadata": {},
     "output_type": "execute_result"
    }
   ],
   "source": [
    "wv.most_similar(positive=['Portland', 'Oregon', ], negative=['city', 'government'])"
   ]
  }
 ],
 "metadata": {
  "kernelspec": {
   "display_name": "Python 2",
   "language": "python",
   "name": "python2"
  },
  "language_info": {
   "codemirror_mode": {
    "name": "ipython",
    "version": 2
   },
   "file_extension": ".py",
   "mimetype": "text/x-python",
   "name": "python",
   "nbconvert_exporter": "python",
   "pygments_lexer": "ipython2",
   "version": "2.7.11+"
  }
 },
 "nbformat": 4,
 "nbformat_minor": 0
}
