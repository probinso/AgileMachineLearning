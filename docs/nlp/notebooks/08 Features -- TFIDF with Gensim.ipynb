{
 "cells": [
  {
   "cell_type": "code",
   "execution_count": 2,
   "metadata": {
    "collapsed": false
   },
   "outputs": [],
   "source": [
    "from __future__ import division, print_function, absolute_import, unicode_literals\n",
    "from builtins import str\n",
    "\n",
    "import os\n",
    "\n",
    "import pandas as pd\n",
    "\n",
    "DATA_PATH = os.path.abspath(os.path.join('..', '..', '..', 'Data'))\n",
    "import string"
   ]
  },
  {
   "cell_type": "code",
   "execution_count": 3,
   "metadata": {
    "collapsed": false
   },
   "outputs": [
    {
     "data": {
      "text/html": [
       "<style>.container { width:100% !important; }</style>"
      ],
      "text/plain": [
       "<IPython.core.display.HTML object>"
      ]
     },
     "metadata": {},
     "output_type": "display_data"
    }
   ],
   "source": [
    "import matplotlib\n",
    "from IPython.display import display, HTML \n",
    "%matplotlib inline\n",
    "np = pd.np\n",
    "display(HTML(\"<style>.container { width:100% !important; }</style>\"))\n",
    "pd.set_option('display.max_rows', 6)\n",
    "pd.set_option('display.max_columns', 500)\n",
    "pd.set_option('display.width', 500)"
   ]
  },
  {
   "cell_type": "code",
   "execution_count": 4,
   "metadata": {
    "collapsed": false
   },
   "outputs": [],
   "source": [
    "import gzip\n",
    "from gensim.models import TfidfModel\n",
    "from gensim.corpora import Dictionary"
   ]
  },
  {
   "cell_type": "markdown",
   "metadata": {},
   "source": [
    "Load previously cleaned data"
   ]
  },
  {
   "cell_type": "code",
   "execution_count": null,
   "metadata": {
    "collapsed": false
   },
   "outputs": [],
   "source": [
    "dates = pd.read_csv(os.path.join(DATA_PATH, 'datetimes.csv.gz'), engine='python')\n",
    "nums = pd.read_csv(os.path.join(DATA_PATH, 'numbers.csv.gz'), engine='python')\n",
    "with gzip.open(os.path.join(DATA_PATH, 'text.csv.gz'), 'rb') as f:\n",
    "    df = read_csv(f)\n",
    "df.tokens"
   ]
  },
  {
   "cell_type": "code",
   "execution_count": 13,
   "metadata": {
    "collapsed": false
   },
   "outputs": [],
   "source": [
    "d = Dictionary.from_documents(([str(s) for s in row]for row in df.tokens))"
   ]
  },
  {
   "cell_type": "code",
   "execution_count": 14,
   "metadata": {
    "collapsed": false
   },
   "outputs": [
    {
     "data": {
      "text/plain": [
       "\"['python', 'never', 'stop', 'learning', 'what', 'you', 'enjoy', 'doing']\""
      ]
     },
     "execution_count": 14,
     "metadata": {},
     "output_type": "execute_result"
    }
   ],
   "source": [
    "df.tokens.iloc[0]"
   ]
  },
  {
   "cell_type": "markdown",
   "metadata": {},
   "source": [
    "When we said \"QUOTE_NONNUMERIC\" we didn't mean **ALL** nonnumeric fields ;)"
   ]
  },
  {
   "cell_type": "code",
   "execution_count": 15,
   "metadata": {
    "collapsed": false
   },
   "outputs": [
    {
     "data": {
      "text/plain": [
       "0         [python, never, stop, learning, what, you, enj...\n",
       "1                               [Watching, Boa, vs, Python]\n",
       "2           [Monty, Python, The, silly, walk, via, YouTube]\n",
       "                                ...                        \n",
       "183067    [RT, RealPython, List, of, Python, API, Wrappe...\n",
       "183068                          [Watching, Boa, vs, Python]\n",
       "183069    [Чертова, дюжина, вакансий, в, IT, и, Digital,...\n",
       "Name: tokens, dtype: object"
      ]
     },
     "execution_count": 15,
     "metadata": {},
     "output_type": "execute_result"
    }
   ],
   "source": [
    "df['tokens'] = df.txt.str.split()\n",
    "df.tokens"
   ]
  },
  {
   "cell_type": "code",
   "execution_count": 16,
   "metadata": {
    "collapsed": false
   },
   "outputs": [
    {
     "data": {
      "text/plain": [
       "array([['python', 'never', 'stop', 'learning', 'what', 'you', 'enjoy', 'doing'],\n",
       "       ['Watching', 'Boa', 'vs', 'Python'],\n",
       "       ['Monty', 'Python', 'The', 'silly', 'walk', 'via', 'YouTube']], dtype=object)"
      ]
     },
     "execution_count": 16,
     "metadata": {},
     "output_type": "execute_result"
    }
   ],
   "source": [
    "df.tokens.values[0:3]"
   ]
  },
  {
   "cell_type": "code",
   "execution_count": 17,
   "metadata": {
    "collapsed": false
   },
   "outputs": [
    {
     "data": {
      "text/plain": [
       "<gensim.corpora.dictionary.Dictionary at 0x7f87abc40f28>"
      ]
     },
     "execution_count": 17,
     "metadata": {},
     "output_type": "execute_result"
    }
   ],
   "source": [
    "d = Dictionary.from_documents(df.tokens)\n",
    "d"
   ]
  },
  {
   "cell_type": "code",
   "execution_count": 18,
   "metadata": {
    "collapsed": false,
    "scrolled": true
   },
   "outputs": [
    {
     "ename": "TypeError",
     "evalue": "object of type 'int' has no len()",
     "output_type": "error",
     "traceback": [
      "\u001b[0;31m---------------------------------------------------------------------------\u001b[0m",
      "\u001b[0;31mTypeError\u001b[0m                                 Traceback (most recent call last)",
      "\u001b[0;32m<ipython-input-18-af38a11fda4c>\u001b[0m in \u001b[0;36m<module>\u001b[0;34m()\u001b[0m\n\u001b[0;32m----> 1\u001b[0;31m \u001b[0mtfidf\u001b[0m \u001b[0;34m=\u001b[0m \u001b[0mTfidfModel\u001b[0m\u001b[0;34m(\u001b[0m\u001b[0md\u001b[0m\u001b[0;34m)\u001b[0m\u001b[0;34m\u001b[0m\u001b[0m\n\u001b[0m",
      "\u001b[0;32m/home/hobs/.virtualenvs/AgileMachineLearning/lib/python3.5/site-packages/gensim/models/tfidfmodel.py\u001b[0m in \u001b[0;36m__init__\u001b[0;34m(self, corpus, id2word, dictionary, wlocal, wglobal, normalize)\u001b[0m\n\u001b[1;32m     94\u001b[0m             \u001b[0mself\u001b[0m\u001b[0;34m.\u001b[0m\u001b[0midfs\u001b[0m \u001b[0;34m=\u001b[0m \u001b[0mprecompute_idfs\u001b[0m\u001b[0;34m(\u001b[0m\u001b[0mself\u001b[0m\u001b[0;34m.\u001b[0m\u001b[0mwglobal\u001b[0m\u001b[0;34m,\u001b[0m \u001b[0mself\u001b[0m\u001b[0;34m.\u001b[0m\u001b[0mdfs\u001b[0m\u001b[0;34m,\u001b[0m \u001b[0mself\u001b[0m\u001b[0;34m.\u001b[0m\u001b[0mnum_docs\u001b[0m\u001b[0;34m)\u001b[0m\u001b[0;34m\u001b[0m\u001b[0m\n\u001b[1;32m     95\u001b[0m         \u001b[0;32melif\u001b[0m \u001b[0mcorpus\u001b[0m \u001b[0;32mis\u001b[0m \u001b[0;32mnot\u001b[0m \u001b[0;32mNone\u001b[0m\u001b[0;34m:\u001b[0m\u001b[0;34m\u001b[0m\u001b[0m\n\u001b[0;32m---> 96\u001b[0;31m             \u001b[0mself\u001b[0m\u001b[0;34m.\u001b[0m\u001b[0minitialize\u001b[0m\u001b[0;34m(\u001b[0m\u001b[0mcorpus\u001b[0m\u001b[0;34m)\u001b[0m\u001b[0;34m\u001b[0m\u001b[0m\n\u001b[0m\u001b[1;32m     97\u001b[0m         \u001b[0;32melse\u001b[0m\u001b[0;34m:\u001b[0m\u001b[0;34m\u001b[0m\u001b[0m\n\u001b[1;32m     98\u001b[0m             \u001b[0;31m# NOTE: everything is left uninitialized; presumably the model will\u001b[0m\u001b[0;34m\u001b[0m\u001b[0;34m\u001b[0m\u001b[0m\n",
      "\u001b[0;32m/home/hobs/.virtualenvs/AgileMachineLearning/lib/python3.5/site-packages/gensim/models/tfidfmodel.py\u001b[0m in \u001b[0;36minitialize\u001b[0;34m(self, corpus)\u001b[0m\n\u001b[1;32m    116\u001b[0m             \u001b[0;32mif\u001b[0m \u001b[0mdocno\u001b[0m \u001b[0;34m%\u001b[0m \u001b[0;36m10000\u001b[0m \u001b[0;34m==\u001b[0m \u001b[0;36m0\u001b[0m\u001b[0;34m:\u001b[0m\u001b[0;34m\u001b[0m\u001b[0m\n\u001b[1;32m    117\u001b[0m                 \u001b[0mlogger\u001b[0m\u001b[0;34m.\u001b[0m\u001b[0minfo\u001b[0m\u001b[0;34m(\u001b[0m\u001b[0;34m\"PROGRESS: processing document #%i\"\u001b[0m \u001b[0;34m%\u001b[0m \u001b[0mdocno\u001b[0m\u001b[0;34m)\u001b[0m\u001b[0;34m\u001b[0m\u001b[0m\n\u001b[0;32m--> 118\u001b[0;31m             \u001b[0mnumnnz\u001b[0m \u001b[0;34m+=\u001b[0m \u001b[0mlen\u001b[0m\u001b[0;34m(\u001b[0m\u001b[0mbow\u001b[0m\u001b[0;34m)\u001b[0m\u001b[0;34m\u001b[0m\u001b[0m\n\u001b[0m\u001b[1;32m    119\u001b[0m             \u001b[0;32mfor\u001b[0m \u001b[0mtermid\u001b[0m\u001b[0;34m,\u001b[0m \u001b[0m_\u001b[0m \u001b[0;32min\u001b[0m \u001b[0mbow\u001b[0m\u001b[0;34m:\u001b[0m\u001b[0;34m\u001b[0m\u001b[0m\n\u001b[1;32m    120\u001b[0m                 \u001b[0mdfs\u001b[0m\u001b[0;34m[\u001b[0m\u001b[0mtermid\u001b[0m\u001b[0;34m]\u001b[0m \u001b[0;34m=\u001b[0m \u001b[0mdfs\u001b[0m\u001b[0;34m.\u001b[0m\u001b[0mget\u001b[0m\u001b[0;34m(\u001b[0m\u001b[0mtermid\u001b[0m\u001b[0;34m,\u001b[0m \u001b[0;36m0\u001b[0m\u001b[0;34m)\u001b[0m \u001b[0;34m+\u001b[0m \u001b[0;36m1\u001b[0m\u001b[0;34m\u001b[0m\u001b[0m\n",
      "\u001b[0;31mTypeError\u001b[0m: object of type 'int' has no len()"
     ]
    }
   ],
   "source": [
    "tfidf = TfidfModel(d)"
   ]
  },
  {
   "cell_type": "markdown",
   "metadata": {},
   "source": [
    "*Hint-Hint:* `gensim` is sprinting this week at PyCon!"
   ]
  },
  {
   "cell_type": "code",
   "execution_count": 19,
   "metadata": {
    "collapsed": true
   },
   "outputs": [],
   "source": [
    "TfidfModel?"
   ]
  },
  {
   "cell_type": "code",
   "execution_count": 20,
   "metadata": {
    "collapsed": false
   },
   "outputs": [
    {
     "ename": "ValueError",
     "evalue": "not enough values to unpack (expected 2, got 1)",
     "output_type": "error",
     "traceback": [
      "\u001b[0;31m---------------------------------------------------------------------------\u001b[0m",
      "\u001b[0;31mValueError\u001b[0m                                Traceback (most recent call last)",
      "\u001b[0;32m<ipython-input-20-d3b6002038b1>\u001b[0m in \u001b[0;36m<module>\u001b[0;34m()\u001b[0m\n\u001b[0;32m----> 1\u001b[0;31m \u001b[0mTfidfModel\u001b[0m\u001b[0;34m(\u001b[0m\u001b[0mdf\u001b[0m\u001b[0;34m.\u001b[0m\u001b[0mtxt\u001b[0m\u001b[0;34m)\u001b[0m\u001b[0;34m\u001b[0m\u001b[0m\n\u001b[0m",
      "\u001b[0;32m/home/hobs/.virtualenvs/AgileMachineLearning/lib/python3.5/site-packages/gensim/models/tfidfmodel.py\u001b[0m in \u001b[0;36m__init__\u001b[0;34m(self, corpus, id2word, dictionary, wlocal, wglobal, normalize)\u001b[0m\n\u001b[1;32m     94\u001b[0m             \u001b[0mself\u001b[0m\u001b[0;34m.\u001b[0m\u001b[0midfs\u001b[0m \u001b[0;34m=\u001b[0m \u001b[0mprecompute_idfs\u001b[0m\u001b[0;34m(\u001b[0m\u001b[0mself\u001b[0m\u001b[0;34m.\u001b[0m\u001b[0mwglobal\u001b[0m\u001b[0;34m,\u001b[0m \u001b[0mself\u001b[0m\u001b[0;34m.\u001b[0m\u001b[0mdfs\u001b[0m\u001b[0;34m,\u001b[0m \u001b[0mself\u001b[0m\u001b[0;34m.\u001b[0m\u001b[0mnum_docs\u001b[0m\u001b[0;34m)\u001b[0m\u001b[0;34m\u001b[0m\u001b[0m\n\u001b[1;32m     95\u001b[0m         \u001b[0;32melif\u001b[0m \u001b[0mcorpus\u001b[0m \u001b[0;32mis\u001b[0m \u001b[0;32mnot\u001b[0m \u001b[0;32mNone\u001b[0m\u001b[0;34m:\u001b[0m\u001b[0;34m\u001b[0m\u001b[0m\n\u001b[0;32m---> 96\u001b[0;31m             \u001b[0mself\u001b[0m\u001b[0;34m.\u001b[0m\u001b[0minitialize\u001b[0m\u001b[0;34m(\u001b[0m\u001b[0mcorpus\u001b[0m\u001b[0;34m)\u001b[0m\u001b[0;34m\u001b[0m\u001b[0m\n\u001b[0m\u001b[1;32m     97\u001b[0m         \u001b[0;32melse\u001b[0m\u001b[0;34m:\u001b[0m\u001b[0;34m\u001b[0m\u001b[0m\n\u001b[1;32m     98\u001b[0m             \u001b[0;31m# NOTE: everything is left uninitialized; presumably the model will\u001b[0m\u001b[0;34m\u001b[0m\u001b[0;34m\u001b[0m\u001b[0m\n",
      "\u001b[0;32m/home/hobs/.virtualenvs/AgileMachineLearning/lib/python3.5/site-packages/gensim/models/tfidfmodel.py\u001b[0m in \u001b[0;36minitialize\u001b[0;34m(self, corpus)\u001b[0m\n\u001b[1;32m    117\u001b[0m                 \u001b[0mlogger\u001b[0m\u001b[0;34m.\u001b[0m\u001b[0minfo\u001b[0m\u001b[0;34m(\u001b[0m\u001b[0;34m\"PROGRESS: processing document #%i\"\u001b[0m \u001b[0;34m%\u001b[0m \u001b[0mdocno\u001b[0m\u001b[0;34m)\u001b[0m\u001b[0;34m\u001b[0m\u001b[0m\n\u001b[1;32m    118\u001b[0m             \u001b[0mnumnnz\u001b[0m \u001b[0;34m+=\u001b[0m \u001b[0mlen\u001b[0m\u001b[0;34m(\u001b[0m\u001b[0mbow\u001b[0m\u001b[0;34m)\u001b[0m\u001b[0;34m\u001b[0m\u001b[0m\n\u001b[0;32m--> 119\u001b[0;31m             \u001b[0;32mfor\u001b[0m \u001b[0mtermid\u001b[0m\u001b[0;34m,\u001b[0m \u001b[0m_\u001b[0m \u001b[0;32min\u001b[0m \u001b[0mbow\u001b[0m\u001b[0;34m:\u001b[0m\u001b[0;34m\u001b[0m\u001b[0m\n\u001b[0m\u001b[1;32m    120\u001b[0m                 \u001b[0mdfs\u001b[0m\u001b[0;34m[\u001b[0m\u001b[0mtermid\u001b[0m\u001b[0;34m]\u001b[0m \u001b[0;34m=\u001b[0m \u001b[0mdfs\u001b[0m\u001b[0;34m.\u001b[0m\u001b[0mget\u001b[0m\u001b[0;34m(\u001b[0m\u001b[0mtermid\u001b[0m\u001b[0;34m,\u001b[0m \u001b[0;36m0\u001b[0m\u001b[0;34m)\u001b[0m \u001b[0;34m+\u001b[0m \u001b[0;36m1\u001b[0m\u001b[0;34m\u001b[0m\u001b[0m\n\u001b[1;32m    121\u001b[0m \u001b[0;34m\u001b[0m\u001b[0m\n",
      "\u001b[0;31mValueError\u001b[0m: not enough values to unpack (expected 2, got 1)"
     ]
    }
   ],
   "source": [
    "TfidfModel(df.txt)"
   ]
  },
  {
   "cell_type": "code",
   "execution_count": 21,
   "metadata": {
    "collapsed": false
   },
   "outputs": [
    {
     "ename": "ValueError",
     "evalue": "too many values to unpack (expected 2)",
     "output_type": "error",
     "traceback": [
      "\u001b[0;31m---------------------------------------------------------------------------\u001b[0m",
      "\u001b[0;31mValueError\u001b[0m                                Traceback (most recent call last)",
      "\u001b[0;32m<ipython-input-21-ddd5365ea7ab>\u001b[0m in \u001b[0;36m<module>\u001b[0;34m()\u001b[0m\n\u001b[0;32m----> 1\u001b[0;31m \u001b[0mTfidfModel\u001b[0m\u001b[0;34m(\u001b[0m\u001b[0mdf\u001b[0m\u001b[0;34m.\u001b[0m\u001b[0mtokens\u001b[0m\u001b[0;34m)\u001b[0m\u001b[0;34m\u001b[0m\u001b[0m\n\u001b[0m",
      "\u001b[0;32m/home/hobs/.virtualenvs/AgileMachineLearning/lib/python3.5/site-packages/gensim/models/tfidfmodel.py\u001b[0m in \u001b[0;36m__init__\u001b[0;34m(self, corpus, id2word, dictionary, wlocal, wglobal, normalize)\u001b[0m\n\u001b[1;32m     94\u001b[0m             \u001b[0mself\u001b[0m\u001b[0;34m.\u001b[0m\u001b[0midfs\u001b[0m \u001b[0;34m=\u001b[0m \u001b[0mprecompute_idfs\u001b[0m\u001b[0;34m(\u001b[0m\u001b[0mself\u001b[0m\u001b[0;34m.\u001b[0m\u001b[0mwglobal\u001b[0m\u001b[0;34m,\u001b[0m \u001b[0mself\u001b[0m\u001b[0;34m.\u001b[0m\u001b[0mdfs\u001b[0m\u001b[0;34m,\u001b[0m \u001b[0mself\u001b[0m\u001b[0;34m.\u001b[0m\u001b[0mnum_docs\u001b[0m\u001b[0;34m)\u001b[0m\u001b[0;34m\u001b[0m\u001b[0m\n\u001b[1;32m     95\u001b[0m         \u001b[0;32melif\u001b[0m \u001b[0mcorpus\u001b[0m \u001b[0;32mis\u001b[0m \u001b[0;32mnot\u001b[0m \u001b[0;32mNone\u001b[0m\u001b[0;34m:\u001b[0m\u001b[0;34m\u001b[0m\u001b[0m\n\u001b[0;32m---> 96\u001b[0;31m             \u001b[0mself\u001b[0m\u001b[0;34m.\u001b[0m\u001b[0minitialize\u001b[0m\u001b[0;34m(\u001b[0m\u001b[0mcorpus\u001b[0m\u001b[0;34m)\u001b[0m\u001b[0;34m\u001b[0m\u001b[0m\n\u001b[0m\u001b[1;32m     97\u001b[0m         \u001b[0;32melse\u001b[0m\u001b[0;34m:\u001b[0m\u001b[0;34m\u001b[0m\u001b[0m\n\u001b[1;32m     98\u001b[0m             \u001b[0;31m# NOTE: everything is left uninitialized; presumably the model will\u001b[0m\u001b[0;34m\u001b[0m\u001b[0;34m\u001b[0m\u001b[0m\n",
      "\u001b[0;32m/home/hobs/.virtualenvs/AgileMachineLearning/lib/python3.5/site-packages/gensim/models/tfidfmodel.py\u001b[0m in \u001b[0;36minitialize\u001b[0;34m(self, corpus)\u001b[0m\n\u001b[1;32m    117\u001b[0m                 \u001b[0mlogger\u001b[0m\u001b[0;34m.\u001b[0m\u001b[0minfo\u001b[0m\u001b[0;34m(\u001b[0m\u001b[0;34m\"PROGRESS: processing document #%i\"\u001b[0m \u001b[0;34m%\u001b[0m \u001b[0mdocno\u001b[0m\u001b[0;34m)\u001b[0m\u001b[0;34m\u001b[0m\u001b[0m\n\u001b[1;32m    118\u001b[0m             \u001b[0mnumnnz\u001b[0m \u001b[0;34m+=\u001b[0m \u001b[0mlen\u001b[0m\u001b[0;34m(\u001b[0m\u001b[0mbow\u001b[0m\u001b[0;34m)\u001b[0m\u001b[0;34m\u001b[0m\u001b[0m\n\u001b[0;32m--> 119\u001b[0;31m             \u001b[0;32mfor\u001b[0m \u001b[0mtermid\u001b[0m\u001b[0;34m,\u001b[0m \u001b[0m_\u001b[0m \u001b[0;32min\u001b[0m \u001b[0mbow\u001b[0m\u001b[0;34m:\u001b[0m\u001b[0;34m\u001b[0m\u001b[0m\n\u001b[0m\u001b[1;32m    120\u001b[0m                 \u001b[0mdfs\u001b[0m\u001b[0;34m[\u001b[0m\u001b[0mtermid\u001b[0m\u001b[0;34m]\u001b[0m \u001b[0;34m=\u001b[0m \u001b[0mdfs\u001b[0m\u001b[0;34m.\u001b[0m\u001b[0mget\u001b[0m\u001b[0;34m(\u001b[0m\u001b[0mtermid\u001b[0m\u001b[0;34m,\u001b[0m \u001b[0;36m0\u001b[0m\u001b[0;34m)\u001b[0m \u001b[0;34m+\u001b[0m \u001b[0;36m1\u001b[0m\u001b[0;34m\u001b[0m\u001b[0m\n\u001b[1;32m    121\u001b[0m \u001b[0;34m\u001b[0m\u001b[0m\n",
      "\u001b[0;31mValueError\u001b[0m: too many values to unpack (expected 2)"
     ]
    }
   ],
   "source": [
    "TfidfModel(df.tokens)"
   ]
  },
  {
   "cell_type": "code",
   "execution_count": 22,
   "metadata": {
    "collapsed": false
   },
   "outputs": [
    {
     "data": {
      "text/plain": [
       "<gensim.models.tfidfmodel.TfidfModel at 0x7f879a4bdfd0>"
      ]
     },
     "execution_count": 22,
     "metadata": {},
     "output_type": "execute_result"
    }
   ],
   "source": [
    "TfidfModel((d.doc2bow(tokens) for tokens in df.tokens))"
   ]
  },
  {
   "cell_type": "markdown",
   "metadata": {},
   "source": [
    "But there's a simpler way.  \n",
    "We already have a vocabulary  \n",
    "with term and document frequencies in a matrix...  "
   ]
  },
  {
   "cell_type": "code",
   "execution_count": 23,
   "metadata": {
    "collapsed": false
   },
   "outputs": [
    {
     "data": {
      "text/plain": [
       "0          444\n",
       "1        53491\n",
       "2          323\n",
       "         ...  \n",
       "87144        1\n",
       "87145        1\n",
       "87146        1\n",
       "dtype: int64"
      ]
     },
     "execution_count": 23,
     "metadata": {},
     "output_type": "execute_result"
    }
   ],
   "source": [
    "pd.Series(d.dfs)"
   ]
  },
  {
   "cell_type": "code",
   "execution_count": 24,
   "metadata": {
    "collapsed": false
   },
   "outputs": [
    {
     "data": {
      "text/plain": [
       "0        ((59729, showerthought), (50000, descending), ...\n",
       "1        ((59729, showerthought), (50000, descending), ...\n",
       "2        ((59729, showerthought), (50000, descending), ...\n",
       "                               ...                        \n",
       "87144    ((59729, showerthought), (50000, descending), ...\n",
       "87145    ((59729, showerthought), (50000, descending), ...\n",
       "87146    ((59729, showerthought), (50000, descending), ...\n",
       "dtype: object"
      ]
     },
     "execution_count": 24,
     "metadata": {},
     "output_type": "execute_result"
    }
   ],
   "source": [
    "pd.Series(d.iteritems())"
   ]
  },
  {
   "cell_type": "markdown",
   "metadata": {},
   "source": [
    "OK, now I get it  \n",
    "\n",
    "- `document` is a list of strings (ordered sequence of tokens)  \n",
    "- `bow` or [bag of words] is a list of `Counter`-like mappings between word IDs and their count in each document\n",
    "- `TfidfModel` is a transformation from a BOW into a BORF,  a \"bag of relative frequencies\"  \n",
    "\n",
    "TFIDF = BORF = term frequencies normalized by document occurence counts\n"
   ]
  },
  {
   "cell_type": "code",
   "execution_count": 25,
   "metadata": {
    "collapsed": false
   },
   "outputs": [
    {
     "data": {
      "text/plain": [
       "0    [(0, 1), (1, 1), (2, 1), (3, 1), (4, 1), (5, 1...\n",
       "1                   [(8, 1), (9, 1), (10, 1), (11, 1)]\n",
       "2    [(8, 1), (12, 1), (13, 1), (14, 1), (15, 1), (...\n",
       "dtype: object"
      ]
     },
     "execution_count": 25,
     "metadata": {},
     "output_type": "execute_result"
    }
   ],
   "source": [
    "pd.Series(d.doc2bow(toks) for toks in df.tokens[:3])"
   ]
  },
  {
   "cell_type": "markdown",
   "metadata": {},
   "source": [
    "Did it assign 0 to the first word it found?  \n",
    "Sort-of...  "
   ]
  },
  {
   "cell_type": "code",
   "execution_count": 26,
   "metadata": {
    "collapsed": false
   },
   "outputs": [
    {
     "data": {
      "text/plain": [
       "1"
      ]
     },
     "execution_count": 26,
     "metadata": {},
     "output_type": "execute_result"
    }
   ],
   "source": [
    "d.token2id['python']"
   ]
  },
  {
   "cell_type": "code",
   "execution_count": 27,
   "metadata": {
    "collapsed": false
   },
   "outputs": [
    {
     "data": {
      "text/plain": [
       "8"
      ]
     },
     "execution_count": 27,
     "metadata": {},
     "output_type": "execute_result"
    }
   ],
   "source": [
    "d.token2id['Python']"
   ]
  },
  {
   "cell_type": "code",
   "execution_count": 28,
   "metadata": {
    "collapsed": false
   },
   "outputs": [
    {
     "data": {
      "text/plain": [
       "3"
      ]
     },
     "execution_count": 28,
     "metadata": {},
     "output_type": "execute_result"
    }
   ],
   "source": [
    "d.token2id['you']"
   ]
  },
  {
   "cell_type": "code",
   "execution_count": 29,
   "metadata": {
    "collapsed": false
   },
   "outputs": [
    {
     "data": {
      "text/plain": [
       "'never'"
      ]
     },
     "execution_count": 29,
     "metadata": {},
     "output_type": "execute_result"
    }
   ],
   "source": [
    "d.id2token[0]  # guesses anyone?"
   ]
  },
  {
   "cell_type": "code",
   "execution_count": 30,
   "metadata": {
    "collapsed": false
   },
   "outputs": [
    {
     "data": {
      "text/plain": [
       "<gensim.models.tfidfmodel.TfidfModel at 0x7f87a2ef3860>"
      ]
     },
     "execution_count": 30,
     "metadata": {},
     "output_type": "execute_result"
    }
   ],
   "source": [
    "tfidf = TfidfModel(dictionary=d)\n",
    "tfidf"
   ]
  },
  {
   "cell_type": "code",
   "execution_count": 31,
   "metadata": {
    "collapsed": false
   },
   "outputs": [
    {
     "data": {
      "text/plain": [
       "{0: 444,\n",
       " 1: 53491,\n",
       " 2: 323,\n",
       " 3: 9048,\n",
       " 4: 611,\n",
       " 5: 1658,\n",
       " 6: 68,\n",
       " 7: 2374,\n",
       " 8: 117768,\n",
       " 9: 36,\n",
       " 10: 67,\n",
       " 11: 1155,\n",
       " 12: 2297,\n",
       " 13: 126,\n",
       " 14: 5553,\n",
       " 15: 60,\n",
       " 16: 6823,\n",
       " 17: 15,\n",
       " 18: 1679,\n",
       " 19: 3078,\n",
       " 20: 8735,\n",
       " 21: 1973,\n",
       " 22: 2114,\n",
       " 23: 10592,\n",
       " 24: 4578,\n",
       " 25: 3350,\n",
       " 26: 715,\n",
       " 27: 7365,\n",
       " 28: 8051,\n",
       " 29: 467,\n",
       " 30: 2987,\n",
       " 31: 1372,\n",
       " 32: 33,\n",
       " 33: 58,\n",
       " 34: 1604,\n",
       " 35: 374,\n",
       " 36: 38276,\n",
       " 37: 53,\n",
       " 38: 27,\n",
       " 39: 23,\n",
       " 40: 781,\n",
       " 41: 589,\n",
       " 42: 5189,\n",
       " 43: 304,\n",
       " 44: 36475,\n",
       " 45: 13282,\n",
       " 46: 6512,\n",
       " 47: 98,\n",
       " 48: 1231,\n",
       " 49: 4616,\n",
       " 50: 1581,\n",
       " 51: 2454,\n",
       " 52: 4647,\n",
       " 53: 25,\n",
       " 54: 8,\n",
       " 55: 472,\n",
       " 56: 67101,\n",
       " 57: 1856,\n",
       " 58: 3375,\n",
       " 59: 6109,\n",
       " 60: 717,\n",
       " 61: 7338,\n",
       " 62: 103,\n",
       " 63: 462,\n",
       " 64: 20774,\n",
       " 65: 41,\n",
       " 66: 551,\n",
       " 67: 212,\n",
       " 68: 1001,\n",
       " 69: 2961,\n",
       " 70: 703,\n",
       " 71: 5888,\n",
       " 72: 59,\n",
       " 73: 448,\n",
       " 74: 232,\n",
       " 75: 42,\n",
       " 76: 43,\n",
       " 77: 2473,\n",
       " 78: 80,\n",
       " 79: 1096,\n",
       " 80: 143,\n",
       " 81: 1,\n",
       " 82: 4548,\n",
       " 83: 2244,\n",
       " 84: 593,\n",
       " 85: 1732,\n",
       " 86: 2649,\n",
       " 87: 27,\n",
       " 88: 17750,\n",
       " 89: 52,\n",
       " 90: 402,\n",
       " 91: 66,\n",
       " 92: 84,\n",
       " 93: 5810,\n",
       " 94: 3045,\n",
       " 95: 358,\n",
       " 96: 16228,\n",
       " 97: 534,\n",
       " 98: 26560,\n",
       " 99: 131,\n",
       " 100: 131,\n",
       " 101: 27085,\n",
       " 102: 1515,\n",
       " 103: 2960,\n",
       " 104: 148,\n",
       " 105: 453,\n",
       " 106: 182,\n",
       " 107: 323,\n",
       " 108: 265,\n",
       " 109: 4,\n",
       " 110: 483,\n",
       " 111: 66,\n",
       " 112: 4058,\n",
       " 113: 547,\n",
       " 114: 869,\n",
       " 115: 830,\n",
       " 116: 4109,\n",
       " 117: 2,\n",
       " 118: 827,\n",
       " 119: 12,\n",
       " 120: 9,\n",
       " 121: 10580,\n",
       " 122: 4953,\n",
       " 123: 3878,\n",
       " 124: 34005,\n",
       " 125: 12,\n",
       " 126: 3014,\n",
       " 127: 144,\n",
       " 128: 19,\n",
       " 129: 231,\n",
       " 130: 2,\n",
       " 131: 422,\n",
       " 132: 3,\n",
       " 133: 1604,\n",
       " 134: 7166,\n",
       " 135: 679,\n",
       " 136: 206,\n",
       " 137: 28,\n",
       " 138: 2208,\n",
       " 139: 6,\n",
       " 140: 966,\n",
       " 141: 255,\n",
       " 142: 63,\n",
       " 143: 534,\n",
       " 144: 232,\n",
       " 145: 451,\n",
       " 146: 122,\n",
       " 147: 1341,\n",
       " 148: 22,\n",
       " 149: 1066,\n",
       " 150: 560,\n",
       " 151: 881,\n",
       " 152: 5,\n",
       " 153: 30,\n",
       " 154: 222,\n",
       " 155: 1,\n",
       " 156: 7,\n",
       " 157: 973,\n",
       " 158: 262,\n",
       " 159: 42,\n",
       " 160: 540,\n",
       " 161: 20,\n",
       " 162: 69,\n",
       " 163: 2887,\n",
       " 164: 62,\n",
       " 165: 1426,\n",
       " 166: 479,\n",
       " 167: 79,\n",
       " 168: 1117,\n",
       " 169: 948,\n",
       " 170: 12203,\n",
       " 171: 573,\n",
       " 172: 683,\n",
       " 173: 911,\n",
       " 174: 460,\n",
       " 175: 133,\n",
       " 176: 987,\n",
       " 177: 241,\n",
       " 178: 115,\n",
       " 179: 49,\n",
       " 180: 988,\n",
       " 181: 1,\n",
       " 182: 10,\n",
       " 183: 5,\n",
       " 184: 472,\n",
       " 185: 701,\n",
       " 186: 30,\n",
       " 187: 64,\n",
       " 188: 423,\n",
       " 189: 1706,\n",
       " 190: 1400,\n",
       " 191: 1,\n",
       " 192: 17,\n",
       " 193: 180,\n",
       " 194: 72,\n",
       " 195: 34,\n",
       " 196: 1,\n",
       " 197: 643,\n",
       " 198: 1358,\n",
       " 199: 383,\n",
       " 200: 106,\n",
       " 201: 67,\n",
       " 202: 1306,\n",
       " 203: 87,\n",
       " 204: 238,\n",
       " 205: 168,\n",
       " 206: 33,\n",
       " 207: 20,\n",
       " 208: 145,\n",
       " 209: 8746,\n",
       " 210: 404,\n",
       " 211: 1,\n",
       " 212: 17,\n",
       " 213: 1,\n",
       " 214: 1,\n",
       " 215: 1831,\n",
       " 216: 1,\n",
       " 217: 726,\n",
       " 218: 925,\n",
       " 219: 1839,\n",
       " 220: 6245,\n",
       " 221: 1847,\n",
       " 222: 1373,\n",
       " 223: 920,\n",
       " 224: 1004,\n",
       " 225: 873,\n",
       " 226: 3221,\n",
       " 227: 875,\n",
       " 228: 875,\n",
       " 229: 6113,\n",
       " 230: 1593,\n",
       " 231: 4536,\n",
       " 232: 3077,\n",
       " 233: 1056,\n",
       " 234: 2129,\n",
       " 235: 6664,\n",
       " 236: 25,\n",
       " 237: 37,\n",
       " 238: 18816,\n",
       " 239: 1547,\n",
       " 240: 2617,\n",
       " 241: 789,\n",
       " 242: 2181,\n",
       " 243: 5012,\n",
       " 244: 6432,\n",
       " 245: 392,\n",
       " 246: 1102,\n",
       " 247: 1230,\n",
       " 248: 27285,\n",
       " 249: 298,\n",
       " 250: 9,\n",
       " 251: 713,\n",
       " 252: 6,\n",
       " 253: 492,\n",
       " 254: 312,\n",
       " 255: 2,\n",
       " 256: 2,\n",
       " 257: 65,\n",
       " 258: 319,\n",
       " 259: 827,\n",
       " 260: 33,\n",
       " 261: 337,\n",
       " 262: 150,\n",
       " 263: 95,\n",
       " 264: 6,\n",
       " 265: 258,\n",
       " 266: 91,\n",
       " 267: 2285,\n",
       " 268: 1872,\n",
       " 269: 766,\n",
       " 270: 970,\n",
       " 271: 1772,\n",
       " 272: 1717,\n",
       " 273: 2946,\n",
       " 274: 3792,\n",
       " 275: 29,\n",
       " 276: 1253,\n",
       " 277: 45,\n",
       " 278: 28,\n",
       " 279: 39,\n",
       " 280: 41,\n",
       " 281: 56,\n",
       " 282: 5,\n",
       " 283: 336,\n",
       " 284: 8001,\n",
       " 285: 115,\n",
       " 286: 3462,\n",
       " 287: 376,\n",
       " 288: 102,\n",
       " 289: 115,\n",
       " 290: 24,\n",
       " 291: 141,\n",
       " 292: 3507,\n",
       " 293: 5833,\n",
       " 294: 13301,\n",
       " 295: 200,\n",
       " 296: 396,\n",
       " 297: 50,\n",
       " 298: 6,\n",
       " 299: 8,\n",
       " 300: 711,\n",
       " 301: 4,\n",
       " 302: 98,\n",
       " 303: 1,\n",
       " 304: 13,\n",
       " 305: 12,\n",
       " 306: 785,\n",
       " 307: 3,\n",
       " 308: 3809,\n",
       " 309: 1698,\n",
       " 310: 48,\n",
       " 311: 1024,\n",
       " 312: 7,\n",
       " 313: 1,\n",
       " 314: 1,\n",
       " 315: 216,\n",
       " 316: 687,\n",
       " 317: 25,\n",
       " 318: 18,\n",
       " 319: 303,\n",
       " 320: 292,\n",
       " 321: 219,\n",
       " 322: 416,\n",
       " 323: 9,\n",
       " 324: 9,\n",
       " 325: 803,\n",
       " 326: 4,\n",
       " 327: 2955,\n",
       " 328: 267,\n",
       " 329: 123,\n",
       " 330: 448,\n",
       " 331: 183,\n",
       " 332: 82,\n",
       " 333: 344,\n",
       " 334: 283,\n",
       " 335: 14,\n",
       " 336: 37,\n",
       " 337: 34,\n",
       " 338: 14,\n",
       " 339: 19,\n",
       " 340: 168,\n",
       " 341: 34,\n",
       " 342: 1916,\n",
       " 343: 14,\n",
       " 344: 400,\n",
       " 345: 21,\n",
       " 346: 925,\n",
       " 347: 220,\n",
       " 348: 232,\n",
       " 349: 263,\n",
       " 350: 1,\n",
       " 351: 146,\n",
       " 352: 592,\n",
       " 353: 693,\n",
       " 354: 13,\n",
       " 355: 63,\n",
       " 356: 468,\n",
       " 357: 76,\n",
       " 358: 9,\n",
       " 359: 2015,\n",
       " 360: 537,\n",
       " 361: 1133,\n",
       " 362: 195,\n",
       " 363: 2825,\n",
       " 364: 1406,\n",
       " 365: 36,\n",
       " 366: 2252,\n",
       " 367: 155,\n",
       " 368: 147,\n",
       " 369: 53,\n",
       " 370: 3081,\n",
       " 371: 909,\n",
       " 372: 272,\n",
       " 373: 3,\n",
       " 374: 216,\n",
       " 375: 287,\n",
       " 376: 1779,\n",
       " 377: 142,\n",
       " 378: 715,\n",
       " 379: 296,\n",
       " 380: 155,\n",
       " 381: 414,\n",
       " 382: 196,\n",
       " 383: 32,\n",
       " 384: 267,\n",
       " 385: 3,\n",
       " 386: 584,\n",
       " 387: 924,\n",
       " 388: 204,\n",
       " 389: 79,\n",
       " 390: 150,\n",
       " 391: 157,\n",
       " 392: 365,\n",
       " 393: 15,\n",
       " 394: 1,\n",
       " 395: 212,\n",
       " 396: 1918,\n",
       " 397: 725,\n",
       " 398: 1566,\n",
       " 399: 125,\n",
       " 400: 3781,\n",
       " 401: 165,\n",
       " 402: 169,\n",
       " 403: 1041,\n",
       " 404: 92,\n",
       " 405: 213,\n",
       " 406: 104,\n",
       " 407: 949,\n",
       " 408: 155,\n",
       " 409: 430,\n",
       " 410: 586,\n",
       " 411: 100,\n",
       " 412: 1265,\n",
       " 413: 72,\n",
       " 414: 280,\n",
       " 415: 2898,\n",
       " 416: 94,\n",
       " 417: 118,\n",
       " 418: 423,\n",
       " 419: 49,\n",
       " 420: 82,\n",
       " 421: 1279,\n",
       " 422: 1183,\n",
       " 423: 660,\n",
       " 424: 390,\n",
       " 425: 20,\n",
       " 426: 808,\n",
       " 427: 10,\n",
       " 428: 5282,\n",
       " 429: 362,\n",
       " 430: 407,\n",
       " 431: 46,\n",
       " 432: 2443,\n",
       " 433: 8,\n",
       " 434: 1133,\n",
       " 435: 130,\n",
       " 436: 1516,\n",
       " 437: 3,\n",
       " 438: 2908,\n",
       " 439: 14,\n",
       " 440: 265,\n",
       " 441: 6,\n",
       " 442: 2164,\n",
       " 443: 2181,\n",
       " 444: 137,\n",
       " 445: 2230,\n",
       " 446: 803,\n",
       " 447: 2246,\n",
       " 448: 8943,\n",
       " 449: 1953,\n",
       " 450: 3732,\n",
       " 451: 2310,\n",
       " 452: 481,\n",
       " 453: 32,\n",
       " 454: 7,\n",
       " 455: 1,\n",
       " 456: 1,\n",
       " 457: 5,\n",
       " 458: 1,\n",
       " 459: 4,\n",
       " 460: 1,\n",
       " 461: 52,\n",
       " 462: 60,\n",
       " 463: 834,\n",
       " 464: 15,\n",
       " 465: 35,\n",
       " 466: 988,\n",
       " 467: 1004,\n",
       " 468: 2033,\n",
       " 469: 1165,\n",
       " 470: 1869,\n",
       " 471: 1044,\n",
       " 472: 105,\n",
       " 473: 57,\n",
       " 474: 68,\n",
       " 475: 879,\n",
       " 476: 421,\n",
       " 477: 155,\n",
       " 478: 377,\n",
       " 479: 176,\n",
       " 480: 1492,\n",
       " 481: 1175,\n",
       " 482: 32,\n",
       " 483: 321,\n",
       " 484: 1859,\n",
       " 485: 1057,\n",
       " 486: 2815,\n",
       " 487: 28,\n",
       " 488: 71,\n",
       " 489: 39,\n",
       " 490: 526,\n",
       " 491: 1008,\n",
       " 492: 165,\n",
       " 493: 4,\n",
       " 494: 55,\n",
       " 495: 56,\n",
       " 496: 254,\n",
       " 497: 74,\n",
       " 498: 178,\n",
       " 499: 17,\n",
       " 500: 273,\n",
       " 501: 4214,\n",
       " 502: 1,\n",
       " 503: 7,\n",
       " 504: 7,\n",
       " 505: 26,\n",
       " 506: 3077,\n",
       " 507: 61,\n",
       " 508: 28,\n",
       " 509: 4597,\n",
       " 510: 170,\n",
       " 511: 1,\n",
       " 512: 42,\n",
       " 513: 490,\n",
       " 514: 176,\n",
       " 515: 266,\n",
       " 516: 2,\n",
       " 517: 99,\n",
       " 518: 2,\n",
       " 519: 139,\n",
       " 520: 15,\n",
       " 521: 5,\n",
       " 522: 10,\n",
       " 523: 15,\n",
       " 524: 6,\n",
       " 525: 1360,\n",
       " 526: 4,\n",
       " 527: 177,\n",
       " 528: 3,\n",
       " 529: 24,\n",
       " 530: 48,\n",
       " 531: 51,\n",
       " 532: 5,\n",
       " 533: 1209,\n",
       " 534: 224,\n",
       " 535: 8,\n",
       " 536: 1679,\n",
       " 537: 41,\n",
       " 538: 1550,\n",
       " 539: 26,\n",
       " 540: 485,\n",
       " 541: 3,\n",
       " 542: 750,\n",
       " 543: 16,\n",
       " 544: 4,\n",
       " 545: 178,\n",
       " 546: 6,\n",
       " 547: 16,\n",
       " 548: 104,\n",
       " 549: 345,\n",
       " 550: 17,\n",
       " 551: 237,\n",
       " 552: 2097,\n",
       " 553: 125,\n",
       " 554: 226,\n",
       " 555: 1307,\n",
       " 556: 3,\n",
       " 557: 829,\n",
       " 558: 8432,\n",
       " 559: 1,\n",
       " 560: 189,\n",
       " 561: 70,\n",
       " 562: 161,\n",
       " 563: 212,\n",
       " 564: 15,\n",
       " 565: 26,\n",
       " 566: 66,\n",
       " 567: 45,\n",
       " 568: 1,\n",
       " 569: 1,\n",
       " 570: 1709,\n",
       " 571: 2850,\n",
       " 572: 29,\n",
       " 573: 180,\n",
       " 574: 589,\n",
       " 575: 27,\n",
       " 576: 214,\n",
       " 577: 134,\n",
       " 578: 1362,\n",
       " 579: 405,\n",
       " 580: 482,\n",
       " 581: 748,\n",
       " 582: 386,\n",
       " 583: 746,\n",
       " 584: 748,\n",
       " 585: 7,\n",
       " 586: 12,\n",
       " 587: 95,\n",
       " 588: 537,\n",
       " 589: 157,\n",
       " 590: 776,\n",
       " 591: 170,\n",
       " 592: 12,\n",
       " 593: 77,\n",
       " 594: 628,\n",
       " 595: 156,\n",
       " 596: 36,\n",
       " 597: 52,\n",
       " 598: 283,\n",
       " 599: 591,\n",
       " 600: 156,\n",
       " 601: 3241,\n",
       " 602: 1768,\n",
       " 603: 176,\n",
       " 604: 981,\n",
       " 605: 2313,\n",
       " 606: 620,\n",
       " 607: 299,\n",
       " 608: 657,\n",
       " 609: 1435,\n",
       " 610: 1281,\n",
       " 611: 749,\n",
       " 612: 1113,\n",
       " 613: 9061,\n",
       " 614: 2,\n",
       " 615: 79,\n",
       " 616: 116,\n",
       " 617: 220,\n",
       " 618: 103,\n",
       " 619: 41,\n",
       " 620: 3,\n",
       " 621: 508,\n",
       " 622: 238,\n",
       " 623: 15,\n",
       " 624: 3,\n",
       " 625: 121,\n",
       " 626: 1567,\n",
       " 627: 230,\n",
       " 628: 747,\n",
       " 629: 569,\n",
       " 630: 1014,\n",
       " 631: 425,\n",
       " 632: 362,\n",
       " 633: 2586,\n",
       " 634: 160,\n",
       " 635: 210,\n",
       " 636: 12,\n",
       " 637: 73,\n",
       " 638: 32,\n",
       " 639: 224,\n",
       " 640: 876,\n",
       " 641: 2151,\n",
       " 642: 761,\n",
       " 643: 746,\n",
       " 644: 224,\n",
       " 645: 422,\n",
       " 646: 86,\n",
       " 647: 91,\n",
       " 648: 25,\n",
       " 649: 2,\n",
       " 650: 216,\n",
       " 651: 220,\n",
       " 652: 849,\n",
       " 653: 56,\n",
       " 654: 1268,\n",
       " 655: 153,\n",
       " 656: 879,\n",
       " 657: 2580,\n",
       " 658: 480,\n",
       " 659: 610,\n",
       " 660: 21,\n",
       " 661: 142,\n",
       " 662: 139,\n",
       " 663: 24,\n",
       " 664: 23,\n",
       " 665: 4126,\n",
       " 666: 11,\n",
       " 667: 230,\n",
       " 668: 224,\n",
       " 669: 145,\n",
       " 670: 495,\n",
       " 671: 3,\n",
       " 672: 882,\n",
       " 673: 213,\n",
       " 674: 428,\n",
       " 675: 64,\n",
       " 676: 619,\n",
       " 677: 1679,\n",
       " 678: 96,\n",
       " 679: 242,\n",
       " 680: 355,\n",
       " 681: 3007,\n",
       " 682: 233,\n",
       " 683: 3,\n",
       " 684: 1763,\n",
       " 685: 273,\n",
       " 686: 181,\n",
       " 687: 3,\n",
       " 688: 144,\n",
       " 689: 499,\n",
       " 690: 94,\n",
       " 691: 818,\n",
       " 692: 139,\n",
       " 693: 1750,\n",
       " 694: 405,\n",
       " 695: 1151,\n",
       " 696: 56,\n",
       " 697: 54,\n",
       " 698: 85,\n",
       " 699: 774,\n",
       " 700: 946,\n",
       " 701: 2,\n",
       " 702: 71,\n",
       " 703: 239,\n",
       " 704: 1691,\n",
       " 705: 27,\n",
       " 706: 528,\n",
       " 707: 56,\n",
       " 708: 1,\n",
       " 709: 1,\n",
       " 710: 23,\n",
       " 711: 456,\n",
       " 712: 134,\n",
       " 713: 151,\n",
       " 714: 6,\n",
       " 715: 9,\n",
       " 716: 4,\n",
       " 717: 104,\n",
       " 718: 2076,\n",
       " 719: 259,\n",
       " 720: 696,\n",
       " 721: 15,\n",
       " 722: 1246,\n",
       " 723: 492,\n",
       " 724: 882,\n",
       " 725: 408,\n",
       " 726: 404,\n",
       " 727: 2,\n",
       " 728: 279,\n",
       " 729: 57,\n",
       " 730: 57,\n",
       " 731: 246,\n",
       " 732: 1,\n",
       " 733: 501,\n",
       " 734: 483,\n",
       " 735: 181,\n",
       " 736: 20,\n",
       " 737: 1787,\n",
       " 738: 176,\n",
       " 739: 3100,\n",
       " 740: 523,\n",
       " 741: 1824,\n",
       " 742: 650,\n",
       " 743: 1495,\n",
       " 744: 20,\n",
       " 745: 174,\n",
       " 746: 1,\n",
       " 747: 118,\n",
       " 748: 105,\n",
       " 749: 928,\n",
       " 750: 526,\n",
       " 751: 90,\n",
       " 752: 20,\n",
       " 753: 68,\n",
       " 754: 519,\n",
       " 755: 39,\n",
       " 756: 15,\n",
       " 757: 157,\n",
       " 758: 744,\n",
       " 759: 6,\n",
       " 760: 200,\n",
       " 761: 757,\n",
       " 762: 493,\n",
       " 763: 1398,\n",
       " 764: 2166,\n",
       " 765: 19,\n",
       " 766: 260,\n",
       " 767: 1,\n",
       " 768: 4,\n",
       " 769: 845,\n",
       " 770: 108,\n",
       " 771: 84,\n",
       " 772: 1341,\n",
       " 773: 80,\n",
       " 774: 33,\n",
       " 775: 29,\n",
       " 776: 220,\n",
       " 777: 393,\n",
       " 778: 252,\n",
       " 779: 104,\n",
       " 780: 101,\n",
       " 781: 71,\n",
       " 782: 12,\n",
       " 783: 11,\n",
       " 784: 1,\n",
       " 785: 280,\n",
       " 786: 113,\n",
       " 787: 36,\n",
       " 788: 1,\n",
       " 789: 424,\n",
       " 790: 1134,\n",
       " 791: 55,\n",
       " 792: 35,\n",
       " 793: 68,\n",
       " 794: 312,\n",
       " 795: 440,\n",
       " 796: 1452,\n",
       " 797: 1,\n",
       " 798: 1115,\n",
       " 799: 5299,\n",
       " 800: 1,\n",
       " 801: 256,\n",
       " 802: 52,\n",
       " 803: 18,\n",
       " 804: 14,\n",
       " 805: 919,\n",
       " 806: 53,\n",
       " 807: 162,\n",
       " 808: 1114,\n",
       " 809: 1,\n",
       " 810: 2,\n",
       " 811: 1,\n",
       " 812: 111,\n",
       " 813: 1,\n",
       " 814: 2,\n",
       " 815: 4,\n",
       " 816: 19,\n",
       " 817: 4374,\n",
       " 818: 594,\n",
       " 819: 81,\n",
       " 820: 6,\n",
       " 821: 161,\n",
       " 822: 200,\n",
       " 823: 167,\n",
       " 824: 9,\n",
       " 825: 981,\n",
       " 826: 2,\n",
       " 827: 170,\n",
       " 828: 1880,\n",
       " 829: 1002,\n",
       " 830: 54,\n",
       " 831: 630,\n",
       " 832: 2,\n",
       " 833: 755,\n",
       " 834: 723,\n",
       " 835: 47,\n",
       " 836: 4,\n",
       " 837: 16,\n",
       " 838: 1294,\n",
       " 839: 41,\n",
       " 840: 33,\n",
       " 841: 578,\n",
       " 842: 398,\n",
       " 843: 142,\n",
       " 844: 150,\n",
       " 845: 403,\n",
       " 846: 92,\n",
       " 847: 71,\n",
       " 848: 122,\n",
       " 849: 217,\n",
       " 850: 9,\n",
       " 851: 20,\n",
       " 852: 5,\n",
       " 853: 301,\n",
       " 854: 2996,\n",
       " 855: 206,\n",
       " 856: 192,\n",
       " 857: 272,\n",
       " 858: 5,\n",
       " 859: 2,\n",
       " 860: 46,\n",
       " 861: 5,\n",
       " 862: 236,\n",
       " 863: 857,\n",
       " 864: 39,\n",
       " 865: 1186,\n",
       " 866: 138,\n",
       " 867: 203,\n",
       " 868: 42,\n",
       " 869: 120,\n",
       " 870: 16,\n",
       " 871: 93,\n",
       " 872: 908,\n",
       " 873: 27,\n",
       " 874: 1,\n",
       " 875: 76,\n",
       " 876: 98,\n",
       " 877: 4,\n",
       " 878: 464,\n",
       " 879: 660,\n",
       " 880: 121,\n",
       " 881: 3,\n",
       " 882: 184,\n",
       " 883: 119,\n",
       " 884: 90,\n",
       " 885: 9,\n",
       " 886: 1529,\n",
       " 887: 48,\n",
       " 888: 76,\n",
       " 889: 70,\n",
       " 890: 426,\n",
       " 891: 126,\n",
       " 892: 699,\n",
       " 893: 21,\n",
       " 894: 10,\n",
       " 895: 14,\n",
       " 896: 5,\n",
       " 897: 453,\n",
       " 898: 102,\n",
       " 899: 210,\n",
       " 900: 14,\n",
       " 901: 67,\n",
       " 902: 488,\n",
       " 903: 13,\n",
       " 904: 1937,\n",
       " 905: 177,\n",
       " 906: 16,\n",
       " 907: 74,\n",
       " 908: 19,\n",
       " 909: 68,\n",
       " 910: 817,\n",
       " 911: 130,\n",
       " 912: 13,\n",
       " 913: 29,\n",
       " 914: 1,\n",
       " 915: 1,\n",
       " 916: 1,\n",
       " 917: 350,\n",
       " 918: 2,\n",
       " 919: 791,\n",
       " 920: 5,\n",
       " 921: 859,\n",
       " 922: 17,\n",
       " 923: 6,\n",
       " 924: 140,\n",
       " 925: 1,\n",
       " 926: 91,\n",
       " 927: 243,\n",
       " 928: 1,\n",
       " 929: 2406,\n",
       " 930: 71,\n",
       " 931: 8,\n",
       " 932: 8,\n",
       " 933: 320,\n",
       " 934: 1,\n",
       " 935: 905,\n",
       " 936: 393,\n",
       " 937: 1,\n",
       " 938: 6,\n",
       " 939: 272,\n",
       " 940: 1849,\n",
       " 941: 14,\n",
       " 942: 271,\n",
       " 943: 283,\n",
       " 944: 191,\n",
       " 945: 286,\n",
       " 946: 152,\n",
       " 947: 1,\n",
       " 948: 59,\n",
       " 949: 1,\n",
       " 950: 4,\n",
       " 951: 1,\n",
       " 952: 3,\n",
       " 953: 277,\n",
       " 954: 1,\n",
       " 955: 1,\n",
       " 956: 2,\n",
       " 957: 1055,\n",
       " 958: 21,\n",
       " 959: 5,\n",
       " 960: 11,\n",
       " 961: 162,\n",
       " 962: 150,\n",
       " 963: 342,\n",
       " 964: 28,\n",
       " 965: 19,\n",
       " 966: 1461,\n",
       " 967: 639,\n",
       " 968: 329,\n",
       " 969: 22,\n",
       " 970: 323,\n",
       " 971: 300,\n",
       " 972: 9,\n",
       " 973: 16,\n",
       " 974: 73,\n",
       " 975: 2344,\n",
       " 976: 118,\n",
       " 977: 27,\n",
       " 978: 34,\n",
       " 979: 8,\n",
       " 980: 93,\n",
       " 981: 1314,\n",
       " 982: 424,\n",
       " 983: 98,\n",
       " 984: 4,\n",
       " 985: 20,\n",
       " 986: 536,\n",
       " 987: 625,\n",
       " 988: 181,\n",
       " 989: 66,\n",
       " 990: 92,\n",
       " 991: 179,\n",
       " 992: 26,\n",
       " 993: 189,\n",
       " 994: 110,\n",
       " 995: 10,\n",
       " 996: 634,\n",
       " 997: 7,\n",
       " 998: 429,\n",
       " 999: 13,\n",
       " ...}"
      ]
     },
     "execution_count": 31,
     "metadata": {},
     "output_type": "execute_result"
    }
   ],
   "source": [
    "tfidf.dfs"
   ]
  },
  {
   "cell_type": "code",
   "execution_count": 42,
   "metadata": {
    "collapsed": false
   },
   "outputs": [
    {
     "data": {
      "text/plain": [
       "183070"
      ]
     },
     "execution_count": 42,
     "metadata": {},
     "output_type": "execute_result"
    }
   ],
   "source": [
    "tfidf.num_docs"
   ]
  },
  {
   "cell_type": "code",
   "execution_count": 43,
   "metadata": {
    "collapsed": false
   },
   "outputs": [
    {
     "data": {
      "text/plain": [
       "2392121"
      ]
     },
     "execution_count": 43,
     "metadata": {},
     "output_type": "execute_result"
    }
   ],
   "source": [
    "tfidf.num_nnz"
   ]
  },
  {
   "cell_type": "code",
   "execution_count": 44,
   "metadata": {
    "collapsed": true
   },
   "outputs": [],
   "source": [
    "tfidf.save(os.path.join(DATA_PATH, 'tfidf'))"
   ]
  },
  {
   "cell_type": "code",
   "execution_count": 45,
   "metadata": {
    "collapsed": true
   },
   "outputs": [],
   "source": [
    "tfidf2 = TfidfModel.load(os.path.join(DATA_PATH, 'tfidf'))"
   ]
  },
  {
   "cell_type": "code",
   "execution_count": 46,
   "metadata": {
    "collapsed": false
   },
   "outputs": [
    {
     "data": {
      "text/plain": [
       "2392121"
      ]
     },
     "execution_count": 46,
     "metadata": {},
     "output_type": "execute_result"
    }
   ],
   "source": [
    "tfidf2.num_nnz"
   ]
  }
 ],
 "metadata": {
  "kernelspec": {
   "display_name": "Python 3",
   "language": "python",
   "name": "python3"
  },
  "language_info": {
   "codemirror_mode": {
    "name": "ipython",
    "version": 3
   },
   "file_extension": ".py",
   "mimetype": "text/x-python",
   "name": "python",
   "nbconvert_exporter": "python",
   "pygments_lexer": "ipython3",
   "version": "3.5.1+"
  }
 },
 "nbformat": 4,
 "nbformat_minor": 0
}
